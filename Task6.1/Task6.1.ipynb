{
 "cells": [
  {
   "cell_type": "code",
   "execution_count": 11,
   "id": "96493d94",
   "metadata": {},
   "outputs": [],
   "source": [
    "import cv2\n",
    "import numpy as np\n",
    "import random"
   ]
  },
  {
   "cell_type": "code",
   "execution_count": 12,
   "id": "55c4917b",
   "metadata": {},
   "outputs": [],
   "source": [
    "image = cv2.imread(\"5.jpg\")\n",
    "\n",
    "top = 100\n",
    "bottom = 200\n",
    "color = (0,255,0)\n",
    "name = \"cannyed kenny\"\n",
    "\n",
    "def rePrintEdge():\n",
    "    img_edge = cv2.Canny(image,bottom,top)\n",
    "    contours, hierarchy = cv2.findContours(img_edge, cv2.RETR_LIST, cv2.CHAIN_APPROX_SIMPLE)\n",
    "    drawing = image.copy()\n",
    "    for i in range(len(contours)):\n",
    "        cv2.drawContours(drawing, contours, i, color, 1, cv2.LINE_8, hierarchy, 0)\n",
    "    cv2.imshow(name,drawing)\n",
    "\n",
    "rePrintEdge()\n",
    "    \n",
    "def topChange(x):\n",
    "    global top\n",
    "    top = x\n",
    "    rePrintEdge()\n",
    "\n",
    "def bottomChange(x):\n",
    "    global bottom\n",
    "    bottom = x\n",
    "    rePrintEdge()\n",
    "\n",
    "cv2.createTrackbar(\"top\", name,0,255, topChange)\n",
    "cv2.createTrackbar(\"bottom\", name,0,255, bottomChange)\n",
    "\n",
    "cv2.waitKey(0)\n",
    "cv2.destroyAllWindows()"
   ]
  },
  {
   "cell_type": "code",
   "execution_count": 9,
   "id": "862ef6d0",
   "metadata": {},
   "outputs": [
    {
     "name": "stdout",
     "output_type": "stream",
     "text": [
      "width - 98.80259682634322%\n",
      "\n",
      "height - 143.8956424709243%\n",
      "\n"
     ]
    }
   ],
   "source": [
    "image = cv2.imread(\"12.png\")\n",
    "\n",
    "top = 100\n",
    "bottom = 200\n",
    "color = (0,255,0)\n",
    "name = \"pic\"\n",
    "\n",
    "def calcMaxDifference(arr):\n",
    "    maxDiff = 0\n",
    "    for x in arr:\n",
    "        for y in arr:\n",
    "            x1 = x[0][0]\n",
    "            x2 = y[0][0]\n",
    "            y1 = x[0][1]\n",
    "            y2 = y[0][1]\n",
    "            dist = ((x1-x2)**2 + (y1-y2)**2)**(0.5)\n",
    "            if dist > maxDiff:\n",
    "                maxDiff = dist\n",
    "    return maxDiff\n",
    "            \n",
    "\n",
    "def rePrintEdge():\n",
    "    img_edge = cv2.Canny(image,bottom,top)\n",
    "    contours, hierarchy = cv2.findContours(img_edge, cv2.RETR_EXTERNAL, cv2.CHAIN_APPROX_NONE)\n",
    "    drawing = image.copy()\n",
    "    for i in range(len(contours)):\n",
    "        cv2.drawContours(drawing, contours, i, color, 1, cv2.LINE_8, hierarchy, 0)\n",
    "    cv2.imshow(name,drawing)\n",
    "    maxDiff = calcMaxDifference(contours[0])\n",
    "    wPerc = maxDiff / image.shape[1] *100\n",
    "    hPerc = maxDiff / image.shape[0] *100\n",
    "    print(\"width - \" + str(wPerc) + \"%\\n\")\n",
    "    print(\"height - \" + str(hPerc) + \"%\\n\")\n",
    "\n",
    "rePrintEdge()\n",
    "\n",
    "def topChange(x):\n",
    "    global top\n",
    "    top = x\n",
    "    rePrintEdge()\n",
    "\n",
    "def bottomChange(x):\n",
    "    global bottom\n",
    "    bottom = x\n",
    "    rePrintEdge()\n",
    "\n",
    "cv2.createTrackbar(\"top\", name,0,255, topChange)\n",
    "cv2.createTrackbar(\"bottom\", name,0,255, bottomChange)\n",
    "\n",
    "cv2.waitKey(0)\n",
    "cv2.destroyAllWindows()"
   ]
  },
  {
   "cell_type": "code",
   "execution_count": null,
   "id": "2bc7d692",
   "metadata": {},
   "outputs": [],
   "source": []
  },
  {
   "cell_type": "code",
   "execution_count": null,
   "id": "1c1edb27",
   "metadata": {},
   "outputs": [],
   "source": []
  }
 ],
 "metadata": {
  "kernelspec": {
   "display_name": "Python 3",
   "language": "python",
   "name": "python3"
  },
  "language_info": {
   "codemirror_mode": {
    "name": "ipython",
    "version": 3
   },
   "file_extension": ".py",
   "mimetype": "text/x-python",
   "name": "python",
   "nbconvert_exporter": "python",
   "pygments_lexer": "ipython3",
   "version": "3.8.8"
  }
 },
 "nbformat": 4,
 "nbformat_minor": 5
}
