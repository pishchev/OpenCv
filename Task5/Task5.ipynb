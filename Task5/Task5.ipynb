{
 "cells": [
  {
   "cell_type": "code",
   "execution_count": 1,
   "id": "d6b1d3b2",
   "metadata": {},
   "outputs": [],
   "source": [
    "import cv2\n",
    "import numpy as np\n",
    "import random"
   ]
  },
  {
   "cell_type": "code",
   "execution_count": 5,
   "id": "ea5a8777",
   "metadata": {},
   "outputs": [
    {
     "name": "stdout",
     "output_type": "stream",
     "text": [
      "0\n",
      "1\n",
      "2\n",
      "3\n",
      "4\n",
      "uint8\n",
      "uint8\n"
     ]
    }
   ],
   "source": [
    "image = cv2.imread(\"cat.jpg\",0)\n",
    "\n",
    "offset = 100\n",
    "\n",
    "badImage = []\n",
    "i = 1\n",
    "\n",
    "def getBadImage(image):\n",
    "    global i\n",
    "    copy = image.copy()\n",
    "    for x in range(image.shape[0]):\n",
    "        for y in range(image.shape[1]):\n",
    "            res = copy[x][y] + random.randint(-offset, offset)\n",
    "            res = res if res >= 0 and res <= 255 else 255 if res > 255 else 0  \n",
    "            copy[x][y] = res\n",
    "    cv2.imshow(str(i),copy)\n",
    "    i+=1\n",
    "    return copy\n",
    "            \n",
    "for i in range(5):\n",
    "    print(i)\n",
    "    badImage.append(getBadImage(image))\n",
    "    \n",
    "res_image = np.zeros((image.shape[0],image.shape[1]))\n",
    "\n",
    "for x in range(res_image.shape[0]):\n",
    "    for y in range(res_image.shape[1]):\n",
    "        res_image[x][y] = 0\n",
    "\n",
    "for im in badImage:\n",
    "    for x in range(im.shape[0]):\n",
    "        for y in range(im.shape[1]):\n",
    "            res_image[x][y] += int(im[x][y])\n",
    "            \n",
    "for x in range(res_image.shape[0]):\n",
    "    for y in range(res_image.shape[1]):\n",
    "        res_image[x][y] = int((res_image[x][y]) / len(badImage))\n",
    "        \n",
    "res_image = res_image[:][:].astype(np.uint8)\n",
    "print(res_image.dtype)\n",
    "print(image.dtype)\n",
    "cv2.imshow(\"SupetCat\",res_image)\n",
    "cv2.imshow(\"Cat\",image)\n",
    "        \n",
    "\n",
    "cv2.waitKey(0)\n",
    "cv2.destroyAllWindows()"
   ]
  },
  {
   "cell_type": "code",
   "execution_count": null,
   "id": "aed4da68",
   "metadata": {},
   "outputs": [],
   "source": []
  },
  {
   "cell_type": "code",
   "execution_count": null,
   "id": "24b98d37",
   "metadata": {},
   "outputs": [],
   "source": []
  }
 ],
 "metadata": {
  "kernelspec": {
   "display_name": "Python 3",
   "language": "python",
   "name": "python3"
  },
  "language_info": {
   "codemirror_mode": {
    "name": "ipython",
    "version": 3
   },
   "file_extension": ".py",
   "mimetype": "text/x-python",
   "name": "python",
   "nbconvert_exporter": "python",
   "pygments_lexer": "ipython3",
   "version": "3.8.8"
  }
 },
 "nbformat": 4,
 "nbformat_minor": 5
}
