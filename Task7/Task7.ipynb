{
 "cells": [
  {
   "cell_type": "code",
   "execution_count": 7,
   "id": "b58361ad",
   "metadata": {},
   "outputs": [],
   "source": [
    "import cv2\n",
    "import numpy as np\n",
    "import random"
   ]
  },
  {
   "cell_type": "code",
   "execution_count": 13,
   "id": "5243d659",
   "metadata": {},
   "outputs": [],
   "source": [
    "image = cv2.imread(\"2.png\")\n",
    "image = cv2.imread(\"3.jpg\")\n",
    "\n",
    "gaus_blur = cv2.blur(image, (3,3))\n",
    "median_blur = cv2.medianBlur(image, 3)\n",
    "\n",
    "kernel = np.array([[0.0, -1.0, 0.0], \n",
    "                   [-1.0, 5.0, -1.0],\n",
    "                   [0.0, -1.0, 0.0]])\n",
    "kernel = kernel/np.sum(kernel)\n",
    "ker_filter = cv2.filter2D(image,-1,kernel)\n",
    "\n",
    "sobelx = cv2.Sobel(image,cv2.CV_8U,1,0,ksize=3)\n",
    "sobely = cv2.Sobel(image,cv2.CV_8U,0,1,ksize=3)\n",
    "sobelxy = cv2.Sobel(image,cv2.CV_8U,1,1,ksize=3)\n",
    "\n",
    "laplas = cv2.Laplacian(image, cv2.CV_8U, ksize=3)\n",
    "\n",
    "cv2.imshow(\"orig\",image)\n",
    "cv2.imshow(\"blur\",gaus_blur)\n",
    "cv2.imshow(\"medianBlur\",median_blur)\n",
    "cv2.imshow(\"filter\",ker_filter)\n",
    "cv2.imshow(\"sobelx\",sobelx)\n",
    "cv2.imshow(\"sobely\",sobely)\n",
    "cv2.imshow(\"sobelxy\",sobelxy)\n",
    "cv2.imshow(\"laplas\",laplas)\n",
    "\n",
    "cv2.waitKey(0)\n",
    "cv2.destroyAllWindows()"
   ]
  },
  {
   "cell_type": "code",
   "execution_count": null,
   "id": "eb35ca55",
   "metadata": {},
   "outputs": [],
   "source": []
  }
 ],
 "metadata": {
  "kernelspec": {
   "display_name": "Python 3",
   "language": "python",
   "name": "python3"
  },
  "language_info": {
   "codemirror_mode": {
    "name": "ipython",
    "version": 3
   },
   "file_extension": ".py",
   "mimetype": "text/x-python",
   "name": "python",
   "nbconvert_exporter": "python",
   "pygments_lexer": "ipython3",
   "version": "3.8.8"
  }
 },
 "nbformat": 4,
 "nbformat_minor": 5
}
