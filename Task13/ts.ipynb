{
 "cells": [
  {
   "cell_type": "code",
   "execution_count": 20,
   "metadata": {},
   "outputs": [],
   "source": [
    "import cv2 as cv\n",
    "import numpy as np\n",
    "from matplotlib import pyplot as plt\n",
    "import random\n",
    "\n",
    "img_orig = cv.imread('2.jpg')\n",
    "template = cv.imread('1.jpg',0)\n",
    "\n",
    "\n",
    "height, width = img_orig.shape[:2]\n",
    "center = (width/2, height/2)\n",
    "rotate_matrix = cv.getRotationMatrix2D(center=center, angle=12, scale=1)\n",
    "rotated_image = cv.warpAffine(src=img_orig, M=rotate_matrix, dsize=(width, height))\n",
    "\n",
    "alfa = 200.0\n",
    "beta = -30.0\n",
    "gamma = 150.0\n",
    "\n",
    "def changeImage(image):\n",
    "    save = image.copy()\n",
    "    for x in range(image.shape[0]):\n",
    "        for y in range(image.shape[1]):       \n",
    "            for z in range(image.shape[2]):\n",
    "                #res = float(alfa)/100 * save[x][y][z] + beta\n",
    "                res = save[x][y][z]\n",
    "                res += random.randint(-100,100)\n",
    "                #res = (res/255)**(gamma/100) * 255\n",
    "                res = res if res >= 0 and res <= 255 else 255 if res > 255 else 0     \n",
    "                image[x][y][z] = res\n",
    "    return image\n",
    "\n",
    "small = cv.resize(img_orig, (0,0), fx=0.9, fy=0.8)\n",
    "img_rgb = small.copy() \n",
    "img_gray = cv.cvtColor(img_rgb, cv.COLOR_BGR2GRAY)\n",
    "w, h = template.shape[::-1]\n",
    "res = cv.matchTemplate(img_gray,template,cv.TM_CCOEFF_NORMED)\n",
    "threshold = 0.8\n",
    "loc = np.where( res >= threshold)\n",
    "for pt in zip(*loc[::-1]):\n",
    "    cv.rectangle(img_rgb, pt, (pt[0] + w, pt[1] + h), (0,0,255), 2)\n",
    "\n",
    "cv.imshow(\"res\",img_rgb)\n",
    "cv.waitKey(0)\n",
    "cv.destroyAllWindows()"
   ]
  }
 ],
 "metadata": {
  "interpreter": {
   "hash": "55c84c6315d2a3f676de743282b6f0c3e31ce074d8b22680513fe7aea19c348e"
  },
  "kernelspec": {
   "display_name": "Python 3.9.5 64-bit",
   "language": "python",
   "name": "python3"
  },
  "language_info": {
   "codemirror_mode": {
    "name": "ipython",
    "version": 3
   },
   "file_extension": ".py",
   "mimetype": "text/x-python",
   "name": "python",
   "nbconvert_exporter": "python",
   "pygments_lexer": "ipython3",
   "version": "3.9.5"
  },
  "orig_nbformat": 4
 },
 "nbformat": 4,
 "nbformat_minor": 2
}
