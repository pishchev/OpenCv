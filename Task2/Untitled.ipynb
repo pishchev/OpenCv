{
 "cells": [
  {
   "cell_type": "code",
   "execution_count": 28,
   "id": "c584a5c5",
   "metadata": {},
   "outputs": [],
   "source": [
    "import cv2\n",
    "import numpy as np"
   ]
  },
  {
   "cell_type": "code",
   "execution_count": 48,
   "id": "fa99cfd3",
   "metadata": {},
   "outputs": [
    {
     "data": {
      "text/plain": [
       "True"
      ]
     },
     "execution_count": 48,
     "metadata": {},
     "output_type": "execute_result"
    }
   ],
   "source": [
    "image = cv2.imread(\"cat.jpg\")\n",
    "#cv2.imshow('Cat',image)\n",
    "\n",
    "def drawFunction(image, x,y):\n",
    "    cv2.rectangle(image, (x-70,y-70), (x+70,y+70), (255, 255, 255), 5)\n",
    "    cv2.circle(image, (x,y),50, (255, 0, 0), 5)\n",
    "    \n",
    "def rect(image ,x,y):\n",
    "    cv2.rectangle(image, (x-70,y-70), (x+70,y+70), (255, 255, 255), 5)\n",
    "def circ(image, x, y):\n",
    "    cv2.circle(image, (x,y),70, (255, 0, 0), 5)\n",
    "def line(image, x, y):\n",
    "    cv2.line(image, (x-100,y),(x+100,y), (255, 0, 0), 5)\n",
    "def tngl(image ,x,y):\n",
    "    points = np.array([[(x, y),(x + 150, y),(x+75, y+150),]], dtype=np.int32)\n",
    "    cv2.fillPoly(image, points,  (255, 0, 0))\n",
    "def ell(image, x,y):\n",
    "    cv2.ellipse(image, (x,y), (100,50), 0, 0, 180, (255, 255, 255), 2)\n",
    "def mousePos(event,x,y,flags,param):\n",
    "    if event == cv2.EVENT_LBUTTONDOWN:\n",
    "        drawFunction(image, x,y)\n",
    "        cv2.imshow('Cat',image)\n",
    "        \n",
    "#cv2.setMouseCallback('Cat',mousePos)\n",
    "\n",
    "circ(image ,280,370)\n",
    "circ(image ,620,370)\n",
    "line(image ,450,370)\n",
    "tngl(image ,380,500)\n",
    "ell(image ,680,100)\n",
    "ell(image ,150,100)\n",
    "\n",
    "cv2.imwrite('MegaCat.jpg', image)"
   ]
  },
  {
   "cell_type": "code",
   "execution_count": null,
   "id": "7bcf3bd7",
   "metadata": {},
   "outputs": [],
   "source": []
  },
  {
   "cell_type": "code",
   "execution_count": null,
   "id": "66f83b9a",
   "metadata": {},
   "outputs": [],
   "source": []
  }
 ],
 "metadata": {
  "kernelspec": {
   "display_name": "Python 3",
   "language": "python",
   "name": "python3"
  },
  "language_info": {
   "codemirror_mode": {
    "name": "ipython",
    "version": 3
   },
   "file_extension": ".py",
   "mimetype": "text/x-python",
   "name": "python",
   "nbconvert_exporter": "python",
   "pygments_lexer": "ipython3",
   "version": "3.8.8"
  }
 },
 "nbformat": 4,
 "nbformat_minor": 5
}
