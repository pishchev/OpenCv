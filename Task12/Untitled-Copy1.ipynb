{
 "cells": [
  {
   "cell_type": "code",
   "execution_count": 34,
   "id": "ff0ca17f",
   "metadata": {},
   "outputs": [],
   "source": [
    "from keras.datasets import mnist # subroutines for fetching the MNIST dataset\n",
    "from keras.models import Model # basic class for specifying and training a neural network\n",
    "from keras.layers import Input, Dense # the two types of neural network layer we will be using\n",
    "from keras.utils import np_utils # utilities for one-hot encoding of ground truth values\n",
    "\n",
    "import matplotlib.pyplot as plt\n",
    "import numpy as np\n",
    "import cv2\n",
    "\n",
    "np.set_printoptions(suppress=True)"
   ]
  },
  {
   "cell_type": "code",
   "execution_count": 2,
   "id": "139c820a",
   "metadata": {},
   "outputs": [],
   "source": [
    "batch_size = 128 # in each iteration, we consider 128 training examples at once\n",
    "num_epochs = 5 # we iterate twenty times over the entire training set\n",
    "hidden_size = 512 # there will be 512 neurons in both hidden layers"
   ]
  },
  {
   "cell_type": "code",
   "execution_count": 3,
   "id": "8fc1f549",
   "metadata": {},
   "outputs": [],
   "source": [
    "num_train = 60000 # there are 60000 training examples in MNIST\n",
    "num_test = 10000 # there are 10000 test examples in MNIST\n",
    "\n",
    "height, width, depth = 28, 28, 1 # MNIST images are 28x28 and greyscale\n",
    "num_classes = 10 # there are 10 classes (1 per digit)\n",
    "\n",
    "(X_train, y_train), (X_test, y_test) = mnist.load_data() # fetch MNIST data\n",
    "\n",
    "X_train = X_train.reshape(num_train, height * width) # Flatten data to 1D\n",
    "X_test = X_test.reshape(num_test, height * width) # Flatten data to 1D\n",
    "X_train = X_train.astype('float32') \n",
    "X_test = X_test.astype('float32')\n",
    "X_train /= 255 # Normalise data to [0, 1] range\n",
    "X_test /= 255 # Normalise data to [0, 1] range\n",
    "\n",
    "Y_train = np_utils.to_categorical(y_train, num_classes) # One-hot encode the labels\n",
    "Y_test = np_utils.to_categorical(y_test, num_classes) # One-hot encode the labels"
   ]
  },
  {
   "cell_type": "code",
   "execution_count": 9,
   "id": "01fa81d4",
   "metadata": {},
   "outputs": [],
   "source": [
    "inp = Input(shape=(height * width,)) # Our input is a 1D vector of size 784\n",
    "hidden_1 = Dense(hidden_size, activation='relu')(inp) # First hidden ReLU layer\n",
    "hidden_2 = Dense(hidden_size, activation='relu')(hidden_1) # Second hidden ReLU layer\n",
    "out = Dense(num_classes, activation='softmax')(hidden_2) # Output softmax layer\n",
    "\n",
    "model = Model(inp, out) # To define a model, just specify its input and output layers"
   ]
  },
  {
   "cell_type": "code",
   "execution_count": 10,
   "id": "df2d70e0",
   "metadata": {},
   "outputs": [],
   "source": [
    "model.compile(loss='categorical_crossentropy', # using the cross-entropy loss function\n",
    "              optimizer='adam', # using the Adam optimiser\n",
    "              metrics=['accuracy']) # reporting the accuracy"
   ]
  },
  {
   "cell_type": "code",
   "execution_count": 11,
   "id": "6c96ea86",
   "metadata": {},
   "outputs": [
    {
     "name": "stdout",
     "output_type": "stream",
     "text": [
      "Epoch 1/5\n",
      "235/235 [==============================] - 3s 13ms/step - loss: 0.3036 - accuracy: 0.9110 - val_loss: 0.1691 - val_accuracy: 0.9492\n",
      "Epoch 2/5\n",
      "235/235 [==============================] - 3s 13ms/step - loss: 0.1032 - accuracy: 0.9685 - val_loss: 0.1249 - val_accuracy: 0.9631\n",
      "Epoch 3/5\n",
      "235/235 [==============================] - 3s 12ms/step - loss: 0.0662 - accuracy: 0.9795 - val_loss: 0.1065 - val_accuracy: 0.9680\n",
      "Epoch 4/5\n",
      "235/235 [==============================] - 3s 12ms/step - loss: 0.0434 - accuracy: 0.9869 - val_loss: 0.1034 - val_accuracy: 0.9701\n",
      "Epoch 5/5\n",
      "235/235 [==============================] - 3s 12ms/step - loss: 0.0279 - accuracy: 0.9914 - val_loss: 0.1013 - val_accuracy: 0.9723\n",
      "313/313 [==============================] - 1s 3ms/step - loss: 0.0816 - accuracy: 0.9771\n"
     ]
    },
    {
     "data": {
      "text/plain": [
       "[0.08164970576763153, 0.9771000146865845]"
      ]
     },
     "execution_count": 11,
     "metadata": {},
     "output_type": "execute_result"
    }
   ],
   "source": [
    "model.fit(X_train, Y_train, # Train the model using the training set...\n",
    "          batch_size=batch_size, epochs=num_epochs,\n",
    "          verbose=1, validation_split=0.5) # ...holding out 10% of the data for validation\n",
    "model.evaluate(X_test, Y_test, verbose=1) # Evaluate the trained model on the test set!"
   ]
  },
  {
   "cell_type": "code",
   "execution_count": 40,
   "id": "ef8eb120",
   "metadata": {},
   "outputs": [
    {
     "data": {
      "image/png": "[encoded data removed]",
      "text/plain": [
       "<Figure size 432x288 with 1 Axes>"
      ]
     },
     "metadata": {
      "needs_background": "light"
     },
     "output_type": "display_data"
    },
    {
     "data": {
      "image/png": "[encoded data removed]",
      "text/plain": [
       "<Figure size 432x288 with 1 Axes>"
      ]
     },
     "metadata": {
      "needs_background": "light"
     },
     "output_type": "display_data"
    },
    {
     "data": {
      "image/png": "[encoded data removed]",
      "text/plain": [
       "<Figure size 432x288 with 1 Axes>"
      ]
     },
     "metadata": {
      "needs_background": "light"
     },
     "output_type": "display_data"
    },
    {
     "data": {
      "image/png": "[encoded data removed]",
      "text/plain": [
       "<Figure size 432x288 with 1 Axes>"
      ]
     },
     "metadata": {
      "needs_background": "light"
     },
     "output_type": "display_data"
    },
    {
     "data": {
      "image/png": "[encoded data removed]",
      "text/plain": [
       "<Figure size 432x288 with 1 Axes>"
      ]
     },
     "metadata": {
      "needs_background": "light"
     },
     "output_type": "display_data"
    }
   ],
   "source": [
    "def wrong_ans(pred,truth):\n",
    "    wrong = []\n",
    "    for i in range(len(pred)):\n",
    "        if np.argmax(pred[i]) != np.argmax(truth[i]):\n",
    "            wrong.append(i)\n",
    "    return wrong\n",
    "\n",
    "def show(wrong_ind, arr, truth,pred):\n",
    "    for i in wrong_ind[:5]:\n",
    "        example = arr[i].copy()\n",
    "        example = np.reshape(example, (28,28), order = 'C')\n",
    "        plt.title('pred: '+ str(np.argmax(pred[i])) + ' truth: ' + str(np.argmax(truth[i])))\n",
    "        plt.imshow(example),\n",
    "        plt.show()\n",
    "\n",
    "predicts = model.predict(X_test)\n",
    "\n",
    "wrong = wrong_ans(predicts,Y_test)\n",
    "show(wrong, X_test, Y_test, predicts)\n"
   ]
  },
  {
   "cell_type": "code",
   "execution_count": null,
   "id": "c37e660b",
   "metadata": {},
   "outputs": [],
   "source": []
  }
 ],
 "metadata": {
  "kernelspec": {
   "display_name": "Python 3",
   "language": "python",
   "name": "python3"
  },
  "language_info": {
   "codemirror_mode": {
    "name": "ipython",
    "version": 3
   },
   "file_extension": ".py",
   "mimetype": "text/x-python",
   "name": "python",
   "nbconvert_exporter": "python",
   "pygments_lexer": "ipython3",
   "version": "3.8.8"
  }
 },
 "nbformat": 4,
 "nbformat_minor": 5
}
