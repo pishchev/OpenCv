{
 "cells": [
  {
   "cell_type": "code",
   "execution_count": 1,
   "metadata": {},
   "outputs": [],
   "source": [
    "import cv2 as cv\n",
    "import numpy as np\n",
    "\n",
    "import torch\n",
    "import torchvision\n",
    "import torchvision.utils\n",
    "from torchvision.models import detection\n",
    "from torchvision.models.detection.faster_rcnn import FastRCNNPredictor"
   ]
  },
  {
   "cell_type": "code",
   "execution_count": 2,
   "metadata": {},
   "outputs": [
    {
     "name": "stderr",
     "output_type": "stream",
     "text": [
      "C:\\Users\\pishe\\AppData\\Local\\Programs\\Python\\Python39\\lib\\site-packages\\torch\\functional.py:445: UserWarning: torch.meshgrid: in an upcoming release, it will be required to pass the indexing argument. (Triggered internally at  ..\\aten\\src\\ATen\\native\\TensorShape.cpp:2157.)\n",
      "  return _VF.meshgrid(tensors, **kwargs)  # type: ignore[attr-defined]\n"
     ]
    }
   ],
   "source": [
    "captured_video = cv.VideoCapture('6.mp4')\n",
    "device = torch.device(\"cpu\")\n",
    "\n",
    "model = torchvision.models.detection.fasterrcnn_resnet50_fpn(pretrained=True)\n",
    "model.eval()\n",
    "model = model.float().to(device)\n",
    "\n",
    "threshold = 0.5\n",
    "while True:\n",
    "    ret, frame = captured_video.read()\n",
    "    if not ret:\n",
    "        break\n",
    "    frame = torch.tensor(np.swapaxes(np.swapaxes(frame, 0, 2),1,2)).float() / 255\n",
    "    label = model([frame.to(device)])[0]\n",
    "    frame =  frame.permute(1, 2, 0).detach().cpu().numpy()\n",
    "    if (label!=None):\n",
    "        for i in range(len(label[\"labels\"])):\n",
    "            if label[\"scores\"][i] < threshold:\n",
    "                continue\n",
    "            if label[\"labels\"][i] == 1:\n",
    "                frame = cv.rectangle(frame, (int(label['boxes'][i][0]), int(label['boxes'][i][1]) ), ( int(label['boxes'][i][2]),int(label['boxes'][i][3])), (255,0,0), 1)\n",
    "    cv.imshow('frame', frame)\n",
    "    if cv.waitKey(25) & 0xFF == ord('q'):\n",
    "        break\n",
    "\n",
    "captured_video.release()\n",
    "cv.destroyAllWindows()"
   ]
  }
 ],
 "metadata": {
  "interpreter": {
   "hash": "55c84c6315d2a3f676de743282b6f0c3e31ce074d8b22680513fe7aea19c348e"
  },
  "kernelspec": {
   "display_name": "Python 3.9.5 64-bit",
   "language": "python",
   "name": "python3"
  },
  "language_info": {
   "codemirror_mode": {
    "name": "ipython",
    "version": 3
   },
   "file_extension": ".py",
   "mimetype": "text/x-python",
   "name": "python",
   "nbconvert_exporter": "python",
   "pygments_lexer": "ipython3",
   "version": "3.9.5"
  },
  "orig_nbformat": 4
 },
 "nbformat": 4,
 "nbformat_minor": 2
}
