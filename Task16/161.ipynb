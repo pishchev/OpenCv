{
 "cells": [
  {
   "cell_type": "code",
   "execution_count": 47,
   "metadata": {},
   "outputs": [],
   "source": [
    "import cv2 as cv\n",
    "import numpy as np"
   ]
  },
  {
   "cell_type": "code",
   "execution_count": 48,
   "metadata": {},
   "outputs": [],
   "source": [
    "def showVideo(video):\n",
    "    if (video.isOpened()== False):\n",
    "        print(\"Error opening video stream or file\")\n",
    "\n",
    "    backSub = cv.createBackgroundSubtractorMOG2()\n",
    "    while(video.isOpened()):\n",
    "        ret, frame = video.read()\n",
    "        if ret == True:\n",
    "            frame = backSub.apply(frame)\n",
    "            se=cv.getStructuringElement(cv.MORPH_ELLIPSE , (2,2))\n",
    "            frame=cv.morphologyEx(frame, cv.MORPH_ERODE, se)\n",
    "            cv.imshow('Video',frame)\n",
    "            if cv.waitKey(25) & 0xFF == ord('q'):\n",
    "                break\n",
    "        else:\n",
    "            break"
   ]
  },
  {
   "cell_type": "code",
   "execution_count": 49,
   "metadata": {},
   "outputs": [],
   "source": [
    "cap = cv.VideoCapture('1.mp4')\n",
    "showVideo(cap)\n",
    "cap.release()\n",
    "\n",
    "cv.destroyAllWindows()"
   ]
  }
 ],
 "metadata": {
  "interpreter": {
   "hash": "55c84c6315d2a3f676de743282b6f0c3e31ce074d8b22680513fe7aea19c348e"
  },
  "kernelspec": {
   "display_name": "Python 3.9.5 64-bit",
   "language": "python",
   "name": "python3"
  },
  "language_info": {
   "codemirror_mode": {
    "name": "ipython",
    "version": 3
   },
   "file_extension": ".py",
   "mimetype": "text/x-python",
   "name": "python",
   "nbconvert_exporter": "python",
   "pygments_lexer": "ipython3",
   "version": "3.9.5"
  },
  "orig_nbformat": 4
 },
 "nbformat": 4,
 "nbformat_minor": 2
}
