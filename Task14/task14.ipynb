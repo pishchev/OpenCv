{
 "cells": [
  {
   "cell_type": "code",
   "execution_count": 68,
   "metadata": {},
   "outputs": [],
   "source": [
    "import cv2 as cv\n",
    "import numpy as np"
   ]
  },
  {
   "cell_type": "code",
   "execution_count": 69,
   "metadata": {},
   "outputs": [
    {
     "name": "stdout",
     "output_type": "stream",
     "text": [
      "Time: 40:15\n"
     ]
    }
   ],
   "source": [
    "nums = []\n",
    "for i in range(10):\n",
    "    nums.append(cv.imread(str(i) + '.jpg', 0))\n",
    "\n",
    "ex = cv.imread('t3.jpg', 0)\n",
    "pts = []\n",
    "for i in range(10):\n",
    "    pts.append([])\n",
    "\n",
    "for i in range(10):\n",
    "    im = ex.copy()\n",
    "    w, h = nums[i].shape[::-1]\n",
    "    res = cv.matchTemplate(im, nums[i], cv.TM_CCOEFF_NORMED)\n",
    "    threshold = 0.9\n",
    "    loc = np.where( res >= threshold)\n",
    "    for pt in zip(*loc[::-1]):\n",
    "        pts[i].append(pt)\n",
    "        cv.rectangle(im, pt, (pt[0] + w, pt[1] + h), (0,0,255), 2)\n",
    "\n",
    "resVec = []\n",
    "for x in range(len(pts)):\n",
    "    for y in range(len(pts[x])):\n",
    "        resVec.append([pts[x][y][0], x])\n",
    "\n",
    "resVec.sort()\n",
    "print('Time: ' + str(resVec[0][1]) + str(resVec[1][1]) +':' + str(resVec[2][1]) + str(resVec[3][1]))"
   ]
  }
 ],
 "metadata": {
  "interpreter": {
   "hash": "55c84c6315d2a3f676de743282b6f0c3e31ce074d8b22680513fe7aea19c348e"
  },
  "kernelspec": {
   "display_name": "Python 3.9.5 64-bit",
   "language": "python",
   "name": "python3"
  },
  "language_info": {
   "codemirror_mode": {
    "name": "ipython",
    "version": 3
   },
   "file_extension": ".py",
   "mimetype": "text/x-python",
   "name": "python",
   "nbconvert_exporter": "python",
   "pygments_lexer": "ipython3",
   "version": "3.9.5"
  },
  "orig_nbformat": 4
 },
 "nbformat": 4,
 "nbformat_minor": 2
}
