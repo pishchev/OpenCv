{
 "cells": [
  {
   "cell_type": "code",
   "execution_count": 16,
   "id": "bf794958",
   "metadata": {},
   "outputs": [],
   "source": [
    "import cv2\n",
    "import numpy as np\n",
    "import random"
   ]
  },
  {
   "cell_type": "code",
   "execution_count": 17,
   "id": "1249f633",
   "metadata": {},
   "outputs": [],
   "source": [
    "def checkFeatures(image, num):\n",
    "    img = image.copy()\n",
    "    gray = cv2.cvtColor(img,cv2.COLOR_BGR2GRAY)\n",
    "    gray = np.float32(gray)\n",
    "    dst  = cv2.cornerHarris(gray,2,9,0.1)\n",
    "\n",
    "    corners = cv2.goodFeaturesToTrack(gray, 50, 0.1, 10)\n",
    "\n",
    "    for i in corners:\n",
    "        x, y = i.ravel()\n",
    "        cv2.circle(img, (x, y), 3, 255, 1)\n",
    "\n",
    "    img[dst>0.1 *dst.max()] = [0,0,255]\n",
    "    cv2.imshow(\"res\"+str(num),img)\n",
    "\n",
    "alfa = 80\n",
    "beta = 5\n",
    "def changeImage(image):\n",
    "    for x in range(image.shape[0]):\n",
    "        for y in range(image.shape[1]):\n",
    "            for z in range(image.shape[2]):\n",
    "                res = float(alfa)/100 * image[x][y][z] + beta\n",
    "                res = res if res >= 0 and res <= 255 else 255 if res > 255 else 0     \n",
    "                image[x][y][z] = res\n",
    "    return image"
   ]
  },
  {
   "cell_type": "code",
   "execution_count": 18,
   "id": "68be9f99",
   "metadata": {},
   "outputs": [
    {
     "name": "stderr",
     "output_type": "stream",
     "text": [
      "<ipython-input-17-f3a867f470c0>:11: DeprecationWarning: an integer is required (got type numpy.float32).  Implicit conversion to integers using __int__ is deprecated, and may be removed in a future version of Python.\n",
      "  cv2.circle(img, (x, y), 3, 255, 1)\n"
     ]
    }
   ],
   "source": [
    "image = cv2.imread(\"1.png\")\n",
    "    \n",
    "checkFeatures(image, 1)\n",
    "\n",
    "height, width = image.shape[:2]\n",
    "center = (width/2, height/2)\n",
    "rotate_matrix = cv2.getRotationMatrix2D(center=center, angle=45, scale=1)\n",
    "rotated_image = cv2.warpAffine(src=image, M=rotate_matrix, dsize=(width, height))\n",
    "\n",
    "pts1 = np.float32([[0,0],[500,100],[0,500],[500,500]])\n",
    "pts2 = np.float32([[0,0],[400,0],[0,400],[400,400]])\n",
    "M = cv2.getPerspectiveTransform(pts1,pts2)\n",
    "new_image = cv2.warpPerspective(rotated_image,M,(400,400))\n",
    "\n",
    "new_image = changeImage(new_image)\n",
    "\n",
    "checkFeatures(new_image, 2)\n",
    "\n",
    "cv2.waitKey(0)\n",
    "cv2.destroyAllWindows()"
   ]
  },
  {
   "cell_type": "code",
   "execution_count": null,
   "id": "34933950",
   "metadata": {},
   "outputs": [],
   "source": []
  },
  {
   "cell_type": "code",
   "execution_count": null,
   "id": "05d1dc8d",
   "metadata": {},
   "outputs": [],
   "source": []
  }
 ],
 "metadata": {
  "kernelspec": {
   "display_name": "Python 3",
   "language": "python",
   "name": "python3"
  },
  "language_info": {
   "codemirror_mode": {
    "name": "ipython",
    "version": 3
   },
   "file_extension": ".py",
   "mimetype": "text/x-python",
   "name": "python",
   "nbconvert_exporter": "python",
   "pygments_lexer": "ipython3",
   "version": "3.8.8"
  }
 },
 "nbformat": 4,
 "nbformat_minor": 5
}
