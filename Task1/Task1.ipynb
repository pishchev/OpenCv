{
 "cells": [
  {
   "cell_type": "code",
   "execution_count": 38,
   "id": "e2ed8f4f",
   "metadata": {},
   "outputs": [],
   "source": [
    "import cv2"
   ]
  },
  {
   "cell_type": "code",
   "execution_count": 44,
   "id": "0f4da045",
   "metadata": {},
   "outputs": [],
   "source": [
    "image = cv2.imread(\"2.jpg\", 0)\n",
    "image_color = cv2.imread(\"2.jpg\")\n",
    "cv2.imshow(\"Pic\",image)\n",
    "cv2.imshow(\"PicColor\",image_color)\n",
    "cv2.waitKey(0)\n",
    "cv2.destroyAllWindows()"
   ]
  },
  {
   "cell_type": "code",
   "execution_count": 63,
   "id": "4c4f5ec4",
   "metadata": {},
   "outputs": [
    {
     "name": "stdout",
     "output_type": "stream",
     "text": [
      "crit: -1\n"
     ]
    }
   ],
   "source": [
    "border = int(input('crit: '))"
   ]
  },
  {
   "cell_type": "code",
   "execution_count": 64,
   "id": "529a11de",
   "metadata": {},
   "outputs": [
    {
     "name": "stdout",
     "output_type": "stream",
     "text": [
      "[[111 114 122 ... 199 200 200]\n",
      " [ 98 105 117 ... 200 200 200]\n",
      " [ 91 102 114 ... 200 200 200]\n",
      " ...\n",
      " [214 231 180 ...  34  35  39]\n",
      " [205 196 146 ...  35  37  42]\n",
      " [249 197 230 ...  33  35  40]]\n"
     ]
    }
   ],
   "source": [
    "print(image)"
   ]
  },
  {
   "cell_type": "code",
   "execution_count": 65,
   "id": "2137b098",
   "metadata": {},
   "outputs": [
    {
     "name": "stdout",
     "output_type": "stream",
     "text": [
      "786432. Percent 100.0\n"
     ]
    }
   ],
   "source": [
    "counter = 0\n",
    "for x in range(image.shape[0]):\n",
    "    for y in range(image.shape[1]):\n",
    "        if image[x][y] > border:\n",
    "            counter += 1\n",
    "print(str(counter) + '. Percent ' + str( counter /(image.shape[0]*image.shape[1]) * 100))"
   ]
  },
  {
   "cell_type": "code",
   "execution_count": null,
   "id": "a3349ad4",
   "metadata": {},
   "outputs": [],
   "source": []
  }
 ],
 "metadata": {
  "kernelspec": {
   "display_name": "Python 3",
   "language": "python",
   "name": "python3"
  },
  "language_info": {
   "codemirror_mode": {
    "name": "ipython",
    "version": 3
   },
   "file_extension": ".py",
   "mimetype": "text/x-python",
   "name": "python",
   "nbconvert_exporter": "python",
   "pygments_lexer": "ipython3",
   "version": "3.8.8"
  }
 },
 "nbformat": 4,
 "nbformat_minor": 5
}
